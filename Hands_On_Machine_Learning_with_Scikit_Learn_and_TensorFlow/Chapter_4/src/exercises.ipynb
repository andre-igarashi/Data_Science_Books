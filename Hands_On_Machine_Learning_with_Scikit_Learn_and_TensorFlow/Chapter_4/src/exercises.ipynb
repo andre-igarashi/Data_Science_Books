{
 "cells": [
  {
   "cell_type": "markdown",
   "id": "ce9644fd",
   "metadata": {},
   "source": [
    "## 1. What Linear Regression training algorithm can you use if you have a training set with millions of features?"
   ]
  },
  {
   "cell_type": "markdown",
   "id": "d781bf6c",
   "metadata": {},
   "source": [
    "**Stochastic Gradient Descent (SGD)**<br>\n",
    "Scales well with large datasets and millions of features.<br>\n",
    "Uses little memory, processing one sample at a time.<br>\n",
    "Supports online learning, updating the model incrementally.<br>\n",
    "Avoids matrix inversion, which is computationally expensive with many features.<br>"
   ]
  },
  {
   "cell_type": "markdown",
   "id": "845545f3",
   "metadata": {},
   "source": [
    "## 2. Suppose the features in your training set have very different scales. What algorithms might suffer from this, and how? What can you do about it?"
   ]
  },
  {
   "cell_type": "markdown",
   "id": "bc95365e",
   "metadata": {},
   "source": [
    "**Algorithms that suffer when features have very different scales:**\n",
    "- Gradient Descent-based algorithms (Linear Regression, Logistic Regression, Neural Networks)\n",
    "    - The cost function can become elongated, causing slow convergence or getting stuck.\n",
    "- Support Vector Machines (SVMs)\n",
    "    - Sensitive to feature scales because it relies on distances; unscaled features can distort the decision boundary.\n",
    "- K-Nearest Neighbors (KNN) and K-Means Clustering\n",
    "    - Both rely on distance calculations. Features on larger scales dominate the distance metric, skewing results."
   ]
  },
  {
   "cell_type": "markdown",
   "id": "043c03c8",
   "metadata": {},
   "source": [
    "**What to do about it**\n",
    "- Scale your features using:\n",
    "    - Standardization (Z-score normalization): Rescales features to have zero mean and unit variance.\n",
    "    - Min-Max Scaling: Rescales features to a fixed range, typically [0, 1]."
   ]
  },
  {
   "cell_type": "markdown",
   "id": "eca2717a",
   "metadata": {},
   "source": [
    "## 3. Can Gradient Descent get stuck in a local minimum when training a Logistic Regression model?"
   ]
  },
  {
   "cell_type": "markdown",
   "id": "0bef27bf",
   "metadata": {},
   "source": [
    "No, Gradient Descent cannot get stuck in a local minimum when training a Logistic Regression model.<br>\n",
    "\n",
    "Because,\n",
    "- The cost function used in Logistic Regression is the log loss (cross-entropy loss), which is a convex function.\n",
    "- A convex function has one global minimum and no local minima, so Gradient Descent is guaranteed to converge to the global minimum, given:\n",
    "    - A properly chosen learning rate.\n",
    "    - The function is well-conditioned (features are scaled)."
   ]
  },
  {
   "cell_type": "markdown",
   "id": "c321933f",
   "metadata": {},
   "source": [
    "## 4. Do all Gradient Descent algorithms lead to the same model provided you let them run long enough?"
   ]
  },
  {
   "cell_type": "markdown",
   "id": "f04d1911",
   "metadata": {},
   "source": [
    "- For convex problems like Linear Regression or Logistic Regression, all Gradient Descent variants (Batch, Stochastic, Mini-batch) will converge to the same global minimum, assuming:\n",
    "    - A proper learning rate.\n",
    "    - The learning rate schedule (especially for Stochastic and Mini-batch GD) eventually decays to zero.\n",
    "\n",
    "- For non-convex problems (like deep neural networks), Gradient Descent variants:\n",
    "    - May converge to different solutions, since there are multiple local minima and saddle points.\n",
    "    - Different initialization and random shuffling in SGD and Mini-batch GD can lead to different final models."
   ]
  },
  {
   "cell_type": "markdown",
   "id": "4673d044",
   "metadata": {},
   "source": [
    "## 5. Suppose you use Batch Gradient Descent and you plot the validation error at every epoch. If you notice that the validation error consistently goes up, what is likely going on? How can you fix this?"
   ]
  },
  {
   "cell_type": "markdown",
   "id": "23cfe0d0",
   "metadata": {},
   "source": [
    "Overfitting.<br> \n",
    "\n",
    "This means the model is learning the training data too well, including its noise, and is failing to generalize to unseen data.<br>\n",
    "\n",
    "Cause:\n",
    "- The model is too complex or trained for too long, and it's fitting the training data at the expense of validation performance.\n",
    "\n",
    "- A less common possibility is a learning rate that is too high, but that usually causes the training/validation error to fluctuate or explode, not steadily increase."
   ]
  },
  {
   "cell_type": "markdown",
   "id": "44f075f2",
   "metadata": {},
   "source": [
    "## 6. Is it a good idea to stop Mini-batch Gradient Descent immediately when the validation error goes up?"
   ]
  },
  {
   "cell_type": "markdown",
   "id": "578d8cee",
   "metadata": {},
   "source": [
    "No, it is not a good idea.<br>\n",
    "\n",
    "Mini-batch Gradient Descent introduces noise in the training process because it updates the model using small random subsets of the data.As a result, the validation error can fluctuate from epoch to epoch, even when the overall trend is improving.<br>\n",
    "\n",
    "Stopping training as soon as the validation error increases could lead to premature stopping, before the model reaches its best performance."
   ]
  },
  {
   "cell_type": "markdown",
   "id": "96ca5a44",
   "metadata": {},
   "source": [
    "## 7. Which Gradient Descent algorithm (among those we discussed) will reach the vicinity of the optimal solution the fastest? Which will actually converge? How can you make the others converge as well?"
   ]
  },
  {
   "cell_type": "markdown",
   "id": "7c7c39e8",
   "metadata": {},
   "source": [
    "Stochastic Gradient Descent (SGD) typically reaches the vicinity of the optimal solution the fastest\n",
    "\n",
    "- SGD performs updates using one training instance at a time, which makes it very quick per step.\n",
    "\n",
    "- This randomness helps it escape local minima and explore the loss surface efficiently.\n",
    "\n",
    "- It can quickly get close to a good solution, though it may not settle precisely at the minimum due to its noisy updates."
   ]
  },
  {
   "cell_type": "markdown",
   "id": "436952a6",
   "metadata": {},
   "source": [
    "Batch Gradient Descent is the algorithm that converges reliably to the minimum of the cost function.\n",
    "\n",
    "- It uses the entire dataset to compute gradients, so its updates are stable and consistent.\n",
    "\n",
    "- It converges smoothly to the optimal point (if the learning rate is well chosen)."
   ]
  },
  {
   "cell_type": "markdown",
   "id": "2d2c1cf8",
   "metadata": {},
   "source": [
    "To help Stochastic Gradient Descent (SGD) or Mini-batch Gradient Descent converge:\n",
    "\n",
    "- Use a learning rate schedule:\n",
    "\n",
    "    - Gradually reduce the learning rate over time.\n",
    "\n",
    "        - This allows the updates to become smaller and more stable as the algorithm approaches the minimum.\n",
    "\n",
    "    - Use optimization algorithms with momentum or adaptive learning rates.\n",
    "\n",
    "        - These help smooth out noisy updates and accelerate convergence."
   ]
  },
  {
   "cell_type": "markdown",
   "id": "2f14940c",
   "metadata": {},
   "source": [
    "## 8. Suppose you are using Polynomial Regression. You plot the learning curves and you notice that there is a large gap between the training error and the validation error. What is happening? What are three ways to solve this?"
   ]
  },
  {
   "cell_type": "markdown",
   "id": "1bb70a8d",
   "metadata": {},
   "source": [
    "Overfitting\n",
    "\n",
    "typically happens when the polynomial degree is too high, making the model too flexible and capturing noise from the training data\n",
    "\n",
    "Possible solutions:\n",
    "\n",
    "Reduce the model complexity, regularization, get more training data"
   ]
  },
  {
   "cell_type": "markdown",
   "id": "94947b65",
   "metadata": {},
   "source": [
    "## 9. Suppose you are using Ridge Regression and you notice that the training error and the validation error are almost equal and fairly high. Would you say that the model suffers from high bias or high variance? Should you increase the regularization hyperparameter α or reduce it?"
   ]
  },
  {
   "cell_type": "markdown",
   "id": "d61a8787",
   "metadata": {},
   "source": [
    "## 10. Why would you want to use:"
   ]
  },
  {
   "cell_type": "markdown",
   "id": "2c0428df",
   "metadata": {},
   "source": [
    "### • Ridge Regression instead of Linear Regression?"
   ]
  },
  {
   "cell_type": "markdown",
   "id": "95d4fb78",
   "metadata": {},
   "source": [
    "Ridge Regression reduces overfitting by shrinking the model coefficients"
   ]
  },
  {
   "cell_type": "markdown",
   "id": "f6e4352b",
   "metadata": {},
   "source": [
    "### • Lasso instead of Ridge Regression?"
   ]
  },
  {
   "cell_type": "markdown",
   "id": "3d4fa873",
   "metadata": {},
   "source": [
    "Lasso can set some coefficients to zero, effectively performing feature selection"
   ]
  },
  {
   "cell_type": "markdown",
   "id": "853d0635",
   "metadata": {},
   "source": [
    "### • Elastic Net instead of Lasso?"
   ]
  },
  {
   "cell_type": "markdown",
   "id": "b2bc5c32",
   "metadata": {},
   "source": [
    "Elastic Net combines the benefits of Ridge and Lasso, improving stability when features are correlated"
   ]
  },
  {
   "cell_type": "markdown",
   "id": "78da02f8",
   "metadata": {},
   "source": [
    "## 11. Suppose you want to classify pictures as outdoor/indoor and daytime/nighttime. Should you implement two Logistic Regression classifiers or one Softmax Regression classifier?"
   ]
  },
  {
   "cell_type": "markdown",
   "id": "278a44e1",
   "metadata": {},
   "source": [
    "Implement two Logistic Regression classifiers rather than a single Softmax Regression classifier.\n",
    "\n",
    "The reason is that we are dealing with two independent binary classification tasks: one classifier determines whether the picture is outdoor or indoor, and the other determines whether it is daytime or nighttime"
   ]
  },
  {
   "cell_type": "markdown",
   "id": "8c4b8cbe",
   "metadata": {},
   "source": [
    "## 12. Implement Batch Gradient Descent with early stopping for Softmax Regression (without using Scikit-Learn)"
   ]
  },
  {
   "cell_type": "code",
   "execution_count": 1,
   "id": "4d105233",
   "metadata": {},
   "outputs": [],
   "source": [
    "import numpy as np\n",
    "from dataclasses import dataclass"
   ]
  },
  {
   "cell_type": "code",
   "execution_count": 2,
   "id": "04b88b07",
   "metadata": {},
   "outputs": [],
   "source": [
    "# ------------------------\n",
    "# Utility functions\n",
    "# ------------------------\n",
    "def one_hot(y: np.ndarray, n_classes: int) -> np.ndarray:\n",
    "    Y = np.zeros((y.size, n_classes), dtype=np.float64)\n",
    "    Y[np.arange(y.size), y] = 1.0\n",
    "    return Y\n",
    "\n",
    "def softmax(Z: np.ndarray) -> np.ndarray:\n",
    "    Z_shift = Z - Z.max(axis=1, keepdims=True)   # numerical stability\n",
    "    expZ = np.exp(Z_shift)\n",
    "    return expZ / expZ.sum(axis=1, keepdims=True)\n",
    "\n",
    "def cross_entropy(Y_true: np.ndarray, Y_prob: np.ndarray) -> float:\n",
    "    eps = 1e-12\n",
    "    return -np.mean(np.sum(Y_true * np.log(Y_prob + eps), axis=1))\n",
    "\n",
    "def accuracy(y_true: np.ndarray, y_pred: np.ndarray) -> float:\n",
    "    return np.mean(y_true == y_pred)"
   ]
  },
  {
   "cell_type": "code",
   "execution_count": 3,
   "id": "ad12fe22",
   "metadata": {},
   "outputs": [],
   "source": [
    "@dataclass\n",
    "class EarlyStoppingConfig:\n",
    "    patience: int = 10\n",
    "    min_delta: float = 0.0  # minimum improvement to reset patience\n",
    "\n",
    "@dataclass\n",
    "class TrainingHistory:\n",
    "    train_loss: list\n",
    "    val_loss: list\n",
    "    train_acc: list\n",
    "    val_acc: list\n",
    "    best_epoch: int\n"
   ]
  },
  {
   "cell_type": "code",
   "execution_count": 4,
   "id": "9442f594",
   "metadata": {},
   "outputs": [],
   "source": [
    "class SoftmaxRegression:\n",
    "    def __init__(self, n_features: int, n_classes: int, reg_lambda: float = 0.0, random_state: int | None = None):\n",
    "        rng = np.random.default_rng(random_state)\n",
    "        # +1 for bias term\n",
    "        self.W = rng.normal(scale=0.01, size=(n_features + 1, n_classes))\n",
    "        self.reg_lambda = reg_lambda\n",
    "\n",
    "    def _add_bias(self, X: np.ndarray) -> np.ndarray:\n",
    "        return np.c_[np.ones((X.shape[0], 1)), X]\n",
    "\n",
    "    def predict_proba(self, X: np.ndarray) -> np.ndarray:\n",
    "        Xb = self._add_bias(X)\n",
    "        logits = Xb @ self.W\n",
    "        return softmax(logits)\n",
    "\n",
    "    def predict(self, X: np.ndarray) -> np.ndarray:\n",
    "        return np.argmax(self.predict_proba(X), axis=1)\n",
    "\n",
    "    def _loss(self, X: np.ndarray, Y: np.ndarray) -> float:\n",
    "        probs = self.predict_proba(X)\n",
    "        ce = cross_entropy(Y, probs)\n",
    "        # do not regularize bias (first row)\n",
    "        reg = 0.5 * self.reg_lambda * np.sum(self.W[1:] ** 2)\n",
    "        return ce + reg / X.shape[0]\n",
    "\n",
    "    def fit(\n",
    "        self,\n",
    "        X_train: np.ndarray,\n",
    "        y_train: np.ndarray,\n",
    "        X_val: np.ndarray,\n",
    "        y_val: np.ndarray,\n",
    "        lr: float = 0.1,\n",
    "        n_epochs: int = 1000,\n",
    "        early_stopping: EarlyStoppingConfig = EarlyStoppingConfig(),\n",
    "        verbose: bool = False,\n",
    "    ) -> TrainingHistory:\n",
    "\n",
    "        n_classes = np.unique(y_train).size\n",
    "        Y_train = one_hot(y_train, n_classes)\n",
    "        Y_val   = one_hot(y_val,   n_classes)\n",
    "\n",
    "        Xb_train = self._add_bias(X_train)\n",
    "        Xb_val   = self._add_bias(X_val)\n",
    "\n",
    "        m = X_train.shape[0]\n",
    "\n",
    "        history = TrainingHistory(train_loss=[], val_loss=[], train_acc=[], val_acc=[], best_epoch=0)\n",
    "\n",
    "        best_val_loss = np.inf\n",
    "        best_W = self.W.copy()\n",
    "        epochs_without_improve = 0\n",
    "\n",
    "        for epoch in range(1, n_epochs + 1):\n",
    "            # Forward\n",
    "            logits = Xb_train @ self.W\n",
    "            probs = softmax(logits)\n",
    "\n",
    "            # Gradient (Batch GD)\n",
    "            grad = (Xb_train.T @ (probs - Y_train)) / m\n",
    "            grad[1:] += self.reg_lambda * self.W[1:] / m  # regularization\n",
    "\n",
    "            # Update\n",
    "            self.W -= lr * grad\n",
    "\n",
    "            # Metrics\n",
    "            train_loss = self._loss(X_train, Y_train)\n",
    "            val_loss   = self._loss(X_val,   Y_val)\n",
    "\n",
    "            y_pred_train = np.argmax(probs, axis=1)\n",
    "            y_pred_val   = self.predict(X_val)\n",
    "\n",
    "            train_acc = accuracy(y_train, y_pred_train)\n",
    "            val_acc   = accuracy(y_val,   y_pred_val)\n",
    "\n",
    "            history.train_loss.append(train_loss)\n",
    "            history.val_loss.append(val_loss)\n",
    "            history.train_acc.append(train_acc)\n",
    "            history.val_acc.append(val_acc)\n",
    "\n",
    "            if verbose and epoch % 50 == 0:\n",
    "                print(f\"Epoch {epoch:4d} | train_loss={train_loss:.4f} val_loss={val_loss:.4f} \"\n",
    "                      f\"train_acc={train_acc:.4f} val_acc={val_acc:.4f}\")\n",
    "\n",
    "            # Early stopping\n",
    "            if val_loss < best_val_loss - early_stopping.min_delta:\n",
    "                best_val_loss = val_loss\n",
    "                best_W = self.W.copy()\n",
    "                history.best_epoch = epoch\n",
    "                epochs_without_improve = 0\n",
    "            else:\n",
    "                epochs_without_improve += 1\n",
    "                if epochs_without_improve >= early_stopping.patience:\n",
    "                    if verbose:\n",
    "                        print(f\"Early stopping at epoch {epoch}. Best epoch: {history.best_epoch}\")\n",
    "                    break\n",
    "\n",
    "        # Rollback\n",
    "        self.W = best_W\n",
    "        return history"
   ]
  },
  {
   "cell_type": "code",
   "execution_count": 5,
   "id": "5d133b51",
   "metadata": {},
   "outputs": [
    {
     "name": "stdout",
     "output_type": "stream",
     "text": [
      "Train samples: 120, Validation samples: 30\n"
     ]
    }
   ],
   "source": [
    "# Carregar Iris dataset diretamente da UCI\n",
    "import urllib\n",
    "url = \"https://archive.ics.uci.edu/ml/machine-learning-databases/iris/iris.data\"\n",
    "raw_data = urllib.request.urlopen(url).read().decode(\"utf-8\").strip().split(\"\\n\")\n",
    "data = [line.split(\",\") for line in raw_data if line.strip() != \"\"]\n",
    "X = np.array([list(map(float, row[:4])) for row in data])\n",
    "labels = [row[4] for row in data]\n",
    "label_to_int = {label: idx for idx, label in enumerate(sorted(set(labels)))}\n",
    "y = np.array([label_to_int[label] for label in labels])\n",
    "\n",
    "# Normalização\n",
    "X = (X - X.mean(axis=0)) / X.std(axis=0)\n",
    "\n",
    "# Split 80/20\n",
    "rng = np.random.default_rng(42)\n",
    "idx = rng.permutation(len(X))\n",
    "train_size = int(0.8 * len(X))\n",
    "train_idx, val_idx = idx[:train_size], idx[train_size:]\n",
    "X_train, X_val = X[train_idx], X[val_idx]\n",
    "y_train, y_val = y[train_idx], y[val_idx]\n",
    "print(f\"Train samples: {len(X_train)}, Validation samples: {len(X_val)}\")"
   ]
  },
  {
   "cell_type": "code",
   "execution_count": 6,
   "id": "423d8f95",
   "metadata": {},
   "outputs": [
    {
     "name": "stdout",
     "output_type": "stream",
     "text": [
      "Epoch   50 | train_loss=0.2454 val_loss=0.1978 train_acc=0.9333 val_acc=0.9667\n",
      "Epoch  100 | train_loss=0.1786 val_loss=0.1447 train_acc=0.9500 val_acc=0.9667\n",
      "Epoch  150 | train_loss=0.1462 val_loss=0.1197 train_acc=0.9583 val_acc=0.9667\n",
      "Epoch  200 | train_loss=0.1270 val_loss=0.1052 train_acc=0.9750 val_acc=0.9667\n",
      "Epoch  250 | train_loss=0.1142 val_loss=0.0958 train_acc=0.9750 val_acc=0.9667\n",
      "Epoch  300 | train_loss=0.1050 val_loss=0.0892 train_acc=0.9750 val_acc=0.9667\n",
      "Epoch  350 | train_loss=0.0981 val_loss=0.0843 train_acc=0.9750 val_acc=0.9667\n",
      "Epoch  400 | train_loss=0.0927 val_loss=0.0804 train_acc=0.9750 val_acc=0.9667\n",
      "Epoch  450 | train_loss=0.0883 val_loss=0.0774 train_acc=0.9750 val_acc=0.9667\n",
      "Epoch  500 | train_loss=0.0847 val_loss=0.0749 train_acc=0.9750 val_acc=0.9667\n",
      "Epoch  550 | train_loss=0.0816 val_loss=0.0728 train_acc=0.9750 val_acc=0.9667\n",
      "Epoch  600 | train_loss=0.0790 val_loss=0.0710 train_acc=0.9750 val_acc=0.9667\n",
      "Epoch  650 | train_loss=0.0767 val_loss=0.0695 train_acc=0.9750 val_acc=0.9667\n",
      "Epoch  700 | train_loss=0.0748 val_loss=0.0681 train_acc=0.9750 val_acc=0.9667\n",
      "Epoch  750 | train_loss=0.0730 val_loss=0.0670 train_acc=0.9750 val_acc=0.9667\n",
      "Epoch  800 | train_loss=0.0714 val_loss=0.0659 train_acc=0.9750 val_acc=0.9667\n",
      "Epoch  850 | train_loss=0.0700 val_loss=0.0650 train_acc=0.9750 val_acc=0.9667\n",
      "Epoch  900 | train_loss=0.0688 val_loss=0.0641 train_acc=0.9750 val_acc=0.9667\n",
      "Epoch  950 | train_loss=0.0676 val_loss=0.0634 train_acc=0.9750 val_acc=0.9667\n",
      "Epoch 1000 | train_loss=0.0666 val_loss=0.0627 train_acc=0.9750 val_acc=0.9667\n",
      "Epoch 1050 | train_loss=0.0656 val_loss=0.0620 train_acc=0.9750 val_acc=0.9667\n",
      "Epoch 1100 | train_loss=0.0647 val_loss=0.0614 train_acc=0.9750 val_acc=0.9667\n",
      "Epoch 1150 | train_loss=0.0639 val_loss=0.0609 train_acc=0.9750 val_acc=0.9667\n",
      "Epoch 1200 | train_loss=0.0631 val_loss=0.0604 train_acc=0.9750 val_acc=0.9667\n",
      "Epoch 1250 | train_loss=0.0624 val_loss=0.0599 train_acc=0.9750 val_acc=0.9667\n",
      "Epoch 1300 | train_loss=0.0618 val_loss=0.0594 train_acc=0.9750 val_acc=0.9667\n",
      "Epoch 1350 | train_loss=0.0612 val_loss=0.0590 train_acc=0.9750 val_acc=0.9667\n",
      "Epoch 1400 | train_loss=0.0606 val_loss=0.0586 train_acc=0.9750 val_acc=0.9667\n",
      "Epoch 1450 | train_loss=0.0601 val_loss=0.0583 train_acc=0.9750 val_acc=0.9667\n",
      "Epoch 1500 | train_loss=0.0596 val_loss=0.0579 train_acc=0.9750 val_acc=0.9667\n",
      "Epoch 1550 | train_loss=0.0591 val_loss=0.0576 train_acc=0.9750 val_acc=0.9667\n",
      "Epoch 1600 | train_loss=0.0586 val_loss=0.0573 train_acc=0.9750 val_acc=0.9667\n",
      "Epoch 1650 | train_loss=0.0582 val_loss=0.0570 train_acc=0.9750 val_acc=1.0000\n",
      "Epoch 1700 | train_loss=0.0578 val_loss=0.0567 train_acc=0.9750 val_acc=1.0000\n",
      "Epoch 1750 | train_loss=0.0574 val_loss=0.0564 train_acc=0.9750 val_acc=1.0000\n",
      "Epoch 1800 | train_loss=0.0571 val_loss=0.0562 train_acc=0.9750 val_acc=1.0000\n",
      "Epoch 1850 | train_loss=0.0567 val_loss=0.0559 train_acc=0.9750 val_acc=1.0000\n",
      "Epoch 1900 | train_loss=0.0564 val_loss=0.0557 train_acc=0.9750 val_acc=1.0000\n",
      "Epoch 1950 | train_loss=0.0561 val_loss=0.0555 train_acc=0.9750 val_acc=1.0000\n",
      "Epoch 2000 | train_loss=0.0558 val_loss=0.0553 train_acc=0.9750 val_acc=1.0000\n",
      "Epoch 2050 | train_loss=0.0555 val_loss=0.0551 train_acc=0.9750 val_acc=1.0000\n",
      "Epoch 2100 | train_loss=0.0552 val_loss=0.0549 train_acc=0.9750 val_acc=1.0000\n",
      "Epoch 2150 | train_loss=0.0550 val_loss=0.0547 train_acc=0.9750 val_acc=1.0000\n",
      "Epoch 2200 | train_loss=0.0547 val_loss=0.0545 train_acc=0.9750 val_acc=1.0000\n",
      "Epoch 2250 | train_loss=0.0545 val_loss=0.0543 train_acc=0.9750 val_acc=1.0000\n",
      "Epoch 2300 | train_loss=0.0542 val_loss=0.0542 train_acc=0.9750 val_acc=1.0000\n",
      "Epoch 2350 | train_loss=0.0540 val_loss=0.0540 train_acc=0.9750 val_acc=1.0000\n",
      "Epoch 2400 | train_loss=0.0538 val_loss=0.0538 train_acc=0.9750 val_acc=1.0000\n",
      "Epoch 2450 | train_loss=0.0536 val_loss=0.0537 train_acc=0.9750 val_acc=1.0000\n",
      "Epoch 2500 | train_loss=0.0534 val_loss=0.0535 train_acc=0.9750 val_acc=1.0000\n",
      "Epoch 2550 | train_loss=0.0532 val_loss=0.0534 train_acc=0.9750 val_acc=1.0000\n",
      "Epoch 2600 | train_loss=0.0530 val_loss=0.0532 train_acc=0.9750 val_acc=1.0000\n",
      "Epoch 2650 | train_loss=0.0528 val_loss=0.0531 train_acc=0.9750 val_acc=1.0000\n",
      "Epoch 2700 | train_loss=0.0527 val_loss=0.0530 train_acc=0.9750 val_acc=1.0000\n",
      "Epoch 2750 | train_loss=0.0525 val_loss=0.0529 train_acc=0.9750 val_acc=1.0000\n",
      "Epoch 2800 | train_loss=0.0523 val_loss=0.0527 train_acc=0.9750 val_acc=1.0000\n",
      "Epoch 2850 | train_loss=0.0522 val_loss=0.0526 train_acc=0.9750 val_acc=1.0000\n",
      "Epoch 2900 | train_loss=0.0520 val_loss=0.0525 train_acc=0.9750 val_acc=1.0000\n",
      "Epoch 2950 | train_loss=0.0519 val_loss=0.0524 train_acc=0.9750 val_acc=1.0000\n",
      "Epoch 3000 | train_loss=0.0518 val_loss=0.0523 train_acc=0.9750 val_acc=1.0000\n",
      "Epoch 3050 | train_loss=0.0516 val_loss=0.0522 train_acc=0.9750 val_acc=1.0000\n",
      "Epoch 3100 | train_loss=0.0515 val_loss=0.0521 train_acc=0.9750 val_acc=1.0000\n",
      "Epoch 3150 | train_loss=0.0514 val_loss=0.0520 train_acc=0.9750 val_acc=1.0000\n",
      "Epoch 3200 | train_loss=0.0512 val_loss=0.0519 train_acc=0.9750 val_acc=1.0000\n",
      "Epoch 3250 | train_loss=0.0511 val_loss=0.0518 train_acc=0.9750 val_acc=1.0000\n",
      "Epoch 3300 | train_loss=0.0510 val_loss=0.0517 train_acc=0.9750 val_acc=1.0000\n",
      "Epoch 3350 | train_loss=0.0509 val_loss=0.0516 train_acc=0.9750 val_acc=1.0000\n",
      "Epoch 3400 | train_loss=0.0508 val_loss=0.0515 train_acc=0.9750 val_acc=1.0000\n",
      "Epoch 3450 | train_loss=0.0507 val_loss=0.0514 train_acc=0.9750 val_acc=1.0000\n",
      "Epoch 3500 | train_loss=0.0506 val_loss=0.0513 train_acc=0.9833 val_acc=1.0000\n",
      "Epoch 3550 | train_loss=0.0505 val_loss=0.0512 train_acc=0.9833 val_acc=1.0000\n",
      "Epoch 3600 | train_loss=0.0504 val_loss=0.0511 train_acc=0.9833 val_acc=1.0000\n",
      "Epoch 3650 | train_loss=0.0503 val_loss=0.0511 train_acc=0.9833 val_acc=1.0000\n",
      "Epoch 3700 | train_loss=0.0502 val_loss=0.0510 train_acc=0.9833 val_acc=1.0000\n",
      "Epoch 3750 | train_loss=0.0501 val_loss=0.0509 train_acc=0.9833 val_acc=1.0000\n",
      "Epoch 3800 | train_loss=0.0500 val_loss=0.0508 train_acc=0.9833 val_acc=1.0000\n",
      "Epoch 3850 | train_loss=0.0499 val_loss=0.0507 train_acc=0.9833 val_acc=1.0000\n",
      "Epoch 3900 | train_loss=0.0498 val_loss=0.0507 train_acc=0.9833 val_acc=1.0000\n",
      "Epoch 3950 | train_loss=0.0497 val_loss=0.0506 train_acc=0.9833 val_acc=1.0000\n",
      "Epoch 4000 | train_loss=0.0496 val_loss=0.0505 train_acc=0.9833 val_acc=1.0000\n",
      "Epoch 4050 | train_loss=0.0496 val_loss=0.0505 train_acc=0.9833 val_acc=1.0000\n",
      "Epoch 4100 | train_loss=0.0495 val_loss=0.0504 train_acc=0.9833 val_acc=1.0000\n",
      "Epoch 4150 | train_loss=0.0494 val_loss=0.0503 train_acc=0.9833 val_acc=1.0000\n",
      "Epoch 4200 | train_loss=0.0493 val_loss=0.0503 train_acc=0.9833 val_acc=1.0000\n",
      "Epoch 4250 | train_loss=0.0493 val_loss=0.0502 train_acc=0.9833 val_acc=1.0000\n",
      "Epoch 4300 | train_loss=0.0492 val_loss=0.0501 train_acc=0.9833 val_acc=1.0000\n",
      "Epoch 4350 | train_loss=0.0491 val_loss=0.0501 train_acc=0.9833 val_acc=1.0000\n",
      "Epoch 4400 | train_loss=0.0491 val_loss=0.0500 train_acc=0.9833 val_acc=1.0000\n",
      "Epoch 4450 | train_loss=0.0490 val_loss=0.0500 train_acc=0.9833 val_acc=1.0000\n",
      "Epoch 4500 | train_loss=0.0489 val_loss=0.0499 train_acc=0.9833 val_acc=1.0000\n",
      "Epoch 4550 | train_loss=0.0489 val_loss=0.0498 train_acc=0.9833 val_acc=1.0000\n",
      "Epoch 4600 | train_loss=0.0488 val_loss=0.0498 train_acc=0.9833 val_acc=1.0000\n",
      "Epoch 4650 | train_loss=0.0488 val_loss=0.0497 train_acc=0.9833 val_acc=1.0000\n",
      "Epoch 4700 | train_loss=0.0487 val_loss=0.0497 train_acc=0.9833 val_acc=1.0000\n",
      "Epoch 4750 | train_loss=0.0486 val_loss=0.0496 train_acc=0.9833 val_acc=1.0000\n",
      "Epoch 4800 | train_loss=0.0486 val_loss=0.0496 train_acc=0.9833 val_acc=1.0000\n",
      "Epoch 4850 | train_loss=0.0485 val_loss=0.0495 train_acc=0.9833 val_acc=1.0000\n",
      "Epoch 4900 | train_loss=0.0485 val_loss=0.0495 train_acc=0.9833 val_acc=1.0000\n",
      "Epoch 4950 | train_loss=0.0484 val_loss=0.0494 train_acc=0.9833 val_acc=1.0000\n",
      "Epoch 5000 | train_loss=0.0484 val_loss=0.0494 train_acc=0.9833 val_acc=1.0000\n",
      "Epoch 5050 | train_loss=0.0483 val_loss=0.0493 train_acc=0.9833 val_acc=1.0000\n",
      "Epoch 5100 | train_loss=0.0483 val_loss=0.0493 train_acc=0.9833 val_acc=1.0000\n",
      "Epoch 5150 | train_loss=0.0482 val_loss=0.0492 train_acc=0.9833 val_acc=1.0000\n",
      "Epoch 5200 | train_loss=0.0482 val_loss=0.0492 train_acc=0.9833 val_acc=1.0000\n",
      "Epoch 5250 | train_loss=0.0481 val_loss=0.0491 train_acc=0.9833 val_acc=1.0000\n",
      "Epoch 5300 | train_loss=0.0481 val_loss=0.0491 train_acc=0.9833 val_acc=1.0000\n",
      "Epoch 5350 | train_loss=0.0480 val_loss=0.0490 train_acc=0.9833 val_acc=1.0000\n",
      "Epoch 5400 | train_loss=0.0480 val_loss=0.0490 train_acc=0.9833 val_acc=1.0000\n",
      "Epoch 5450 | train_loss=0.0479 val_loss=0.0490 train_acc=0.9833 val_acc=1.0000\n",
      "Epoch 5500 | train_loss=0.0479 val_loss=0.0489 train_acc=0.9833 val_acc=1.0000\n",
      "Epoch 5550 | train_loss=0.0478 val_loss=0.0489 train_acc=0.9833 val_acc=1.0000\n",
      "Epoch 5600 | train_loss=0.0478 val_loss=0.0488 train_acc=0.9833 val_acc=1.0000\n",
      "Epoch 5650 | train_loss=0.0478 val_loss=0.0488 train_acc=0.9833 val_acc=1.0000\n",
      "Epoch 5700 | train_loss=0.0477 val_loss=0.0488 train_acc=0.9833 val_acc=1.0000\n",
      "Epoch 5750 | train_loss=0.0477 val_loss=0.0487 train_acc=0.9833 val_acc=1.0000\n",
      "Epoch 5800 | train_loss=0.0476 val_loss=0.0487 train_acc=0.9833 val_acc=1.0000\n",
      "Epoch 5850 | train_loss=0.0476 val_loss=0.0486 train_acc=0.9833 val_acc=1.0000\n",
      "Epoch 5900 | train_loss=0.0476 val_loss=0.0486 train_acc=0.9833 val_acc=1.0000\n",
      "Epoch 5950 | train_loss=0.0475 val_loss=0.0486 train_acc=0.9833 val_acc=1.0000\n",
      "Epoch 6000 | train_loss=0.0475 val_loss=0.0485 train_acc=0.9833 val_acc=1.0000\n",
      "Epoch 6050 | train_loss=0.0475 val_loss=0.0485 train_acc=0.9833 val_acc=1.0000\n",
      "Epoch 6100 | train_loss=0.0474 val_loss=0.0484 train_acc=0.9833 val_acc=1.0000\n",
      "Epoch 6150 | train_loss=0.0474 val_loss=0.0484 train_acc=0.9833 val_acc=1.0000\n",
      "Epoch 6200 | train_loss=0.0474 val_loss=0.0484 train_acc=0.9833 val_acc=1.0000\n",
      "Epoch 6250 | train_loss=0.0473 val_loss=0.0483 train_acc=0.9833 val_acc=1.0000\n",
      "Epoch 6300 | train_loss=0.0473 val_loss=0.0483 train_acc=0.9833 val_acc=1.0000\n",
      "Epoch 6350 | train_loss=0.0473 val_loss=0.0483 train_acc=0.9833 val_acc=1.0000\n",
      "Epoch 6400 | train_loss=0.0472 val_loss=0.0482 train_acc=0.9833 val_acc=1.0000\n",
      "Epoch 6450 | train_loss=0.0472 val_loss=0.0482 train_acc=0.9833 val_acc=1.0000\n",
      "Epoch 6500 | train_loss=0.0472 val_loss=0.0482 train_acc=0.9833 val_acc=1.0000\n",
      "Epoch 6550 | train_loss=0.0471 val_loss=0.0481 train_acc=0.9833 val_acc=1.0000\n",
      "Epoch 6600 | train_loss=0.0471 val_loss=0.0481 train_acc=0.9833 val_acc=1.0000\n",
      "Epoch 6650 | train_loss=0.0471 val_loss=0.0481 train_acc=0.9833 val_acc=1.0000\n",
      "Epoch 6700 | train_loss=0.0470 val_loss=0.0480 train_acc=0.9833 val_acc=1.0000\n",
      "Epoch 6750 | train_loss=0.0470 val_loss=0.0480 train_acc=0.9833 val_acc=1.0000\n",
      "Epoch 6800 | train_loss=0.0470 val_loss=0.0480 train_acc=0.9833 val_acc=1.0000\n",
      "Epoch 6850 | train_loss=0.0470 val_loss=0.0480 train_acc=0.9833 val_acc=1.0000\n",
      "Epoch 6900 | train_loss=0.0469 val_loss=0.0479 train_acc=0.9833 val_acc=1.0000\n",
      "Epoch 6950 | train_loss=0.0469 val_loss=0.0479 train_acc=0.9833 val_acc=1.0000\n",
      "Epoch 7000 | train_loss=0.0469 val_loss=0.0479 train_acc=0.9833 val_acc=1.0000\n",
      "Epoch 7050 | train_loss=0.0469 val_loss=0.0478 train_acc=0.9833 val_acc=1.0000\n",
      "Epoch 7100 | train_loss=0.0468 val_loss=0.0478 train_acc=0.9833 val_acc=1.0000\n",
      "Epoch 7150 | train_loss=0.0468 val_loss=0.0478 train_acc=0.9833 val_acc=1.0000\n",
      "Epoch 7200 | train_loss=0.0468 val_loss=0.0478 train_acc=0.9833 val_acc=1.0000\n",
      "Epoch 7250 | train_loss=0.0468 val_loss=0.0477 train_acc=0.9833 val_acc=1.0000\n",
      "Epoch 7300 | train_loss=0.0467 val_loss=0.0477 train_acc=0.9833 val_acc=1.0000\n",
      "Epoch 7350 | train_loss=0.0467 val_loss=0.0477 train_acc=0.9833 val_acc=1.0000\n",
      "Epoch 7400 | train_loss=0.0467 val_loss=0.0476 train_acc=0.9833 val_acc=1.0000\n",
      "Epoch 7450 | train_loss=0.0467 val_loss=0.0476 train_acc=0.9833 val_acc=1.0000\n",
      "Epoch 7500 | train_loss=0.0466 val_loss=0.0476 train_acc=0.9833 val_acc=1.0000\n",
      "Epoch 7550 | train_loss=0.0466 val_loss=0.0476 train_acc=0.9833 val_acc=1.0000\n",
      "Epoch 7600 | train_loss=0.0466 val_loss=0.0475 train_acc=0.9833 val_acc=1.0000\n",
      "Epoch 7650 | train_loss=0.0466 val_loss=0.0475 train_acc=0.9833 val_acc=1.0000\n",
      "Epoch 7700 | train_loss=0.0466 val_loss=0.0475 train_acc=0.9833 val_acc=1.0000\n",
      "Epoch 7750 | train_loss=0.0465 val_loss=0.0475 train_acc=0.9833 val_acc=1.0000\n",
      "Epoch 7800 | train_loss=0.0465 val_loss=0.0474 train_acc=0.9833 val_acc=1.0000\n",
      "Epoch 7850 | train_loss=0.0465 val_loss=0.0474 train_acc=0.9833 val_acc=1.0000\n",
      "Epoch 7900 | train_loss=0.0465 val_loss=0.0474 train_acc=0.9833 val_acc=1.0000\n",
      "Epoch 7950 | train_loss=0.0464 val_loss=0.0474 train_acc=0.9833 val_acc=1.0000\n",
      "Epoch 8000 | train_loss=0.0464 val_loss=0.0474 train_acc=0.9833 val_acc=1.0000\n",
      "Epoch 8050 | train_loss=0.0464 val_loss=0.0473 train_acc=0.9833 val_acc=1.0000\n",
      "Epoch 8100 | train_loss=0.0464 val_loss=0.0473 train_acc=0.9833 val_acc=1.0000\n",
      "Epoch 8150 | train_loss=0.0464 val_loss=0.0473 train_acc=0.9833 val_acc=1.0000\n",
      "Epoch 8200 | train_loss=0.0464 val_loss=0.0473 train_acc=0.9833 val_acc=1.0000\n",
      "Epoch 8250 | train_loss=0.0463 val_loss=0.0472 train_acc=0.9833 val_acc=1.0000\n",
      "Epoch 8300 | train_loss=0.0463 val_loss=0.0472 train_acc=0.9833 val_acc=1.0000\n",
      "Epoch 8350 | train_loss=0.0463 val_loss=0.0472 train_acc=0.9833 val_acc=1.0000\n",
      "Epoch 8400 | train_loss=0.0463 val_loss=0.0472 train_acc=0.9833 val_acc=1.0000\n",
      "Epoch 8450 | train_loss=0.0463 val_loss=0.0472 train_acc=0.9833 val_acc=1.0000\n",
      "Epoch 8500 | train_loss=0.0462 val_loss=0.0471 train_acc=0.9833 val_acc=1.0000\n",
      "Epoch 8550 | train_loss=0.0462 val_loss=0.0471 train_acc=0.9833 val_acc=1.0000\n",
      "Epoch 8600 | train_loss=0.0462 val_loss=0.0471 train_acc=0.9833 val_acc=1.0000\n",
      "Epoch 8650 | train_loss=0.0462 val_loss=0.0471 train_acc=0.9833 val_acc=1.0000\n",
      "Epoch 8700 | train_loss=0.0462 val_loss=0.0470 train_acc=0.9833 val_acc=1.0000\n",
      "Epoch 8750 | train_loss=0.0462 val_loss=0.0470 train_acc=0.9833 val_acc=1.0000\n",
      "Epoch 8800 | train_loss=0.0461 val_loss=0.0470 train_acc=0.9833 val_acc=1.0000\n",
      "Epoch 8850 | train_loss=0.0461 val_loss=0.0470 train_acc=0.9833 val_acc=1.0000\n",
      "Epoch 8900 | train_loss=0.0461 val_loss=0.0470 train_acc=0.9833 val_acc=1.0000\n",
      "Epoch 8950 | train_loss=0.0461 val_loss=0.0469 train_acc=0.9833 val_acc=1.0000\n",
      "Epoch 9000 | train_loss=0.0461 val_loss=0.0469 train_acc=0.9833 val_acc=1.0000\n",
      "Epoch 9050 | train_loss=0.0461 val_loss=0.0469 train_acc=0.9833 val_acc=1.0000\n",
      "Epoch 9100 | train_loss=0.0460 val_loss=0.0469 train_acc=0.9833 val_acc=1.0000\n",
      "Epoch 9150 | train_loss=0.0460 val_loss=0.0469 train_acc=0.9833 val_acc=1.0000\n",
      "Epoch 9200 | train_loss=0.0460 val_loss=0.0469 train_acc=0.9833 val_acc=1.0000\n",
      "Epoch 9250 | train_loss=0.0460 val_loss=0.0468 train_acc=0.9833 val_acc=1.0000\n",
      "Epoch 9300 | train_loss=0.0460 val_loss=0.0468 train_acc=0.9833 val_acc=1.0000\n",
      "Epoch 9350 | train_loss=0.0460 val_loss=0.0468 train_acc=0.9833 val_acc=1.0000\n",
      "Epoch 9400 | train_loss=0.0460 val_loss=0.0468 train_acc=0.9833 val_acc=1.0000\n",
      "Epoch 9450 | train_loss=0.0459 val_loss=0.0468 train_acc=0.9833 val_acc=1.0000\n",
      "Epoch 9500 | train_loss=0.0459 val_loss=0.0467 train_acc=0.9833 val_acc=1.0000\n",
      "Epoch 9550 | train_loss=0.0459 val_loss=0.0467 train_acc=0.9833 val_acc=1.0000\n",
      "Epoch 9600 | train_loss=0.0459 val_loss=0.0467 train_acc=0.9833 val_acc=1.0000\n",
      "Epoch 9650 | train_loss=0.0459 val_loss=0.0467 train_acc=0.9833 val_acc=1.0000\n",
      "Epoch 9700 | train_loss=0.0459 val_loss=0.0467 train_acc=0.9833 val_acc=1.0000\n",
      "Epoch 9750 | train_loss=0.0459 val_loss=0.0467 train_acc=0.9833 val_acc=1.0000\n",
      "Epoch 9800 | train_loss=0.0459 val_loss=0.0466 train_acc=0.9833 val_acc=1.0000\n",
      "Epoch 9850 | train_loss=0.0458 val_loss=0.0466 train_acc=0.9833 val_acc=1.0000\n",
      "Epoch 9900 | train_loss=0.0458 val_loss=0.0466 train_acc=0.9833 val_acc=1.0000\n",
      "Epoch 9950 | train_loss=0.0458 val_loss=0.0466 train_acc=0.9833 val_acc=1.0000\n",
      "Epoch 10000 | train_loss=0.0458 val_loss=0.0466 train_acc=0.9833 val_acc=1.0000\n",
      "Epoch 10050 | train_loss=0.0458 val_loss=0.0466 train_acc=0.9833 val_acc=1.0000\n",
      "Epoch 10100 | train_loss=0.0458 val_loss=0.0465 train_acc=0.9833 val_acc=1.0000\n",
      "Epoch 10150 | train_loss=0.0458 val_loss=0.0465 train_acc=0.9833 val_acc=1.0000\n",
      "Epoch 10200 | train_loss=0.0458 val_loss=0.0465 train_acc=0.9833 val_acc=1.0000\n",
      "Epoch 10250 | train_loss=0.0457 val_loss=0.0465 train_acc=0.9833 val_acc=1.0000\n",
      "Epoch 10300 | train_loss=0.0457 val_loss=0.0465 train_acc=0.9833 val_acc=1.0000\n",
      "Epoch 10350 | train_loss=0.0457 val_loss=0.0465 train_acc=0.9833 val_acc=1.0000\n",
      "Epoch 10400 | train_loss=0.0457 val_loss=0.0464 train_acc=0.9833 val_acc=1.0000\n",
      "Epoch 10450 | train_loss=0.0457 val_loss=0.0464 train_acc=0.9833 val_acc=1.0000\n",
      "Epoch 10500 | train_loss=0.0457 val_loss=0.0464 train_acc=0.9833 val_acc=1.0000\n",
      "Epoch 10550 | train_loss=0.0457 val_loss=0.0464 train_acc=0.9833 val_acc=1.0000\n",
      "Epoch 10600 | train_loss=0.0457 val_loss=0.0464 train_acc=0.9833 val_acc=1.0000\n",
      "Epoch 10650 | train_loss=0.0457 val_loss=0.0464 train_acc=0.9833 val_acc=1.0000\n",
      "Epoch 10700 | train_loss=0.0456 val_loss=0.0464 train_acc=0.9833 val_acc=1.0000\n",
      "Epoch 10750 | train_loss=0.0456 val_loss=0.0463 train_acc=0.9833 val_acc=1.0000\n",
      "Epoch 10800 | train_loss=0.0456 val_loss=0.0463 train_acc=0.9833 val_acc=1.0000\n",
      "Epoch 10850 | train_loss=0.0456 val_loss=0.0463 train_acc=0.9833 val_acc=1.0000\n",
      "Epoch 10900 | train_loss=0.0456 val_loss=0.0463 train_acc=0.9833 val_acc=1.0000\n",
      "Epoch 10950 | train_loss=0.0456 val_loss=0.0463 train_acc=0.9833 val_acc=1.0000\n",
      "Epoch 11000 | train_loss=0.0456 val_loss=0.0463 train_acc=0.9833 val_acc=1.0000\n",
      "Epoch 11050 | train_loss=0.0456 val_loss=0.0463 train_acc=0.9833 val_acc=1.0000\n",
      "Epoch 11100 | train_loss=0.0456 val_loss=0.0462 train_acc=0.9833 val_acc=1.0000\n",
      "Epoch 11150 | train_loss=0.0456 val_loss=0.0462 train_acc=0.9833 val_acc=1.0000\n",
      "Epoch 11200 | train_loss=0.0455 val_loss=0.0462 train_acc=0.9833 val_acc=1.0000\n",
      "Epoch 11250 | train_loss=0.0455 val_loss=0.0462 train_acc=0.9833 val_acc=1.0000\n",
      "Epoch 11300 | train_loss=0.0455 val_loss=0.0462 train_acc=0.9833 val_acc=1.0000\n",
      "Epoch 11350 | train_loss=0.0455 val_loss=0.0462 train_acc=0.9833 val_acc=1.0000\n",
      "Epoch 11400 | train_loss=0.0455 val_loss=0.0462 train_acc=0.9833 val_acc=1.0000\n",
      "Epoch 11450 | train_loss=0.0455 val_loss=0.0462 train_acc=0.9833 val_acc=1.0000\n",
      "Epoch 11500 | train_loss=0.0455 val_loss=0.0461 train_acc=0.9833 val_acc=1.0000\n",
      "Epoch 11550 | train_loss=0.0455 val_loss=0.0461 train_acc=0.9833 val_acc=1.0000\n",
      "Epoch 11600 | train_loss=0.0455 val_loss=0.0461 train_acc=0.9833 val_acc=1.0000\n",
      "Epoch 11650 | train_loss=0.0455 val_loss=0.0461 train_acc=0.9833 val_acc=1.0000\n",
      "Epoch 11700 | train_loss=0.0455 val_loss=0.0461 train_acc=0.9833 val_acc=1.0000\n",
      "Epoch 11750 | train_loss=0.0454 val_loss=0.0461 train_acc=0.9833 val_acc=1.0000\n",
      "Epoch 11800 | train_loss=0.0454 val_loss=0.0461 train_acc=0.9833 val_acc=1.0000\n",
      "Epoch 11850 | train_loss=0.0454 val_loss=0.0461 train_acc=0.9833 val_acc=1.0000\n",
      "Epoch 11900 | train_loss=0.0454 val_loss=0.0460 train_acc=0.9833 val_acc=1.0000\n",
      "Epoch 11950 | train_loss=0.0454 val_loss=0.0460 train_acc=0.9833 val_acc=1.0000\n",
      "Epoch 12000 | train_loss=0.0454 val_loss=0.0460 train_acc=0.9833 val_acc=1.0000\n",
      "Epoch 12050 | train_loss=0.0454 val_loss=0.0460 train_acc=0.9833 val_acc=1.0000\n",
      "Epoch 12100 | train_loss=0.0454 val_loss=0.0460 train_acc=0.9833 val_acc=1.0000\n",
      "Epoch 12150 | train_loss=0.0454 val_loss=0.0460 train_acc=0.9833 val_acc=1.0000\n",
      "Epoch 12200 | train_loss=0.0454 val_loss=0.0460 train_acc=0.9833 val_acc=1.0000\n",
      "Epoch 12250 | train_loss=0.0454 val_loss=0.0460 train_acc=0.9833 val_acc=1.0000\n",
      "Epoch 12300 | train_loss=0.0454 val_loss=0.0459 train_acc=0.9833 val_acc=1.0000\n",
      "Epoch 12350 | train_loss=0.0453 val_loss=0.0459 train_acc=0.9833 val_acc=1.0000\n",
      "Epoch 12400 | train_loss=0.0453 val_loss=0.0459 train_acc=0.9833 val_acc=1.0000\n",
      "Epoch 12450 | train_loss=0.0453 val_loss=0.0459 train_acc=0.9833 val_acc=1.0000\n",
      "Epoch 12500 | train_loss=0.0453 val_loss=0.0459 train_acc=0.9833 val_acc=1.0000\n",
      "Epoch 12550 | train_loss=0.0453 val_loss=0.0459 train_acc=0.9833 val_acc=1.0000\n",
      "Epoch 12600 | train_loss=0.0453 val_loss=0.0459 train_acc=0.9833 val_acc=1.0000\n",
      "Epoch 12650 | train_loss=0.0453 val_loss=0.0459 train_acc=0.9833 val_acc=1.0000\n",
      "Epoch 12700 | train_loss=0.0453 val_loss=0.0459 train_acc=0.9833 val_acc=1.0000\n",
      "Epoch 12750 | train_loss=0.0453 val_loss=0.0458 train_acc=0.9833 val_acc=1.0000\n",
      "Epoch 12800 | train_loss=0.0453 val_loss=0.0458 train_acc=0.9833 val_acc=1.0000\n",
      "Epoch 12850 | train_loss=0.0453 val_loss=0.0458 train_acc=0.9833 val_acc=1.0000\n",
      "Epoch 12900 | train_loss=0.0453 val_loss=0.0458 train_acc=0.9833 val_acc=1.0000\n",
      "Epoch 12950 | train_loss=0.0453 val_loss=0.0458 train_acc=0.9833 val_acc=1.0000\n",
      "Epoch 13000 | train_loss=0.0453 val_loss=0.0458 train_acc=0.9833 val_acc=1.0000\n",
      "Epoch 13050 | train_loss=0.0452 val_loss=0.0458 train_acc=0.9833 val_acc=1.0000\n",
      "Epoch 13100 | train_loss=0.0452 val_loss=0.0458 train_acc=0.9833 val_acc=1.0000\n",
      "Epoch 13150 | train_loss=0.0452 val_loss=0.0458 train_acc=0.9833 val_acc=1.0000\n",
      "Epoch 13200 | train_loss=0.0452 val_loss=0.0458 train_acc=0.9833 val_acc=1.0000\n",
      "Epoch 13250 | train_loss=0.0452 val_loss=0.0457 train_acc=0.9833 val_acc=1.0000\n",
      "Epoch 13300 | train_loss=0.0452 val_loss=0.0457 train_acc=0.9833 val_acc=1.0000\n",
      "Epoch 13350 | train_loss=0.0452 val_loss=0.0457 train_acc=0.9833 val_acc=1.0000\n",
      "Early stopping at epoch 13358. Best epoch: 13308\n",
      "Best epoch: 13308\n",
      "Final Validation Accuracy: 1.0000\n"
     ]
    }
   ],
   "source": [
    "model = SoftmaxRegression(n_features=X.shape[1], n_classes=len(set(y)), reg_lambda=1e-3, random_state=0)\n",
    "history = model.fit(\n",
    "    X_train, y_train,\n",
    "    X_val, y_val,\n",
    "    lr=0.5,\n",
    "    n_epochs=100000,\n",
    "    early_stopping=EarlyStoppingConfig(patience=50, min_delta=1e-5),\n",
    "    verbose=True\n",
    ")\n",
    "print(f\"Best epoch: {history.best_epoch}\")\n",
    "print(f\"Final Validation Accuracy: {accuracy(y_val, model.predict(X_val)):.4f}\")"
   ]
  },
  {
   "cell_type": "code",
   "execution_count": 7,
   "id": "1ba44931",
   "metadata": {},
   "outputs": [
    {
     "data": {
      "image/png": "[encoded data removed]",
      "text/plain": [
       "<Figure size 1000x400 with 2 Axes>"
      ]
     },
     "metadata": {},
     "output_type": "display_data"
    }
   ],
   "source": [
    "import matplotlib.pyplot as plt\n",
    "\n",
    "plt.figure(figsize=(10,4))\n",
    "plt.subplot(1,2,1)\n",
    "plt.plot(history.train_loss, label=\"Train Loss\")\n",
    "plt.plot(history.val_loss, label=\"Validation Loss\")\n",
    "plt.axvline(history.best_epoch, color='red', linestyle='--', label='Best Epoch')\n",
    "plt.legend()\n",
    "plt.xlabel(\"Epochs\")\n",
    "plt.ylabel(\"Loss\")\n",
    "plt.title(\"Loss Curve\")\n",
    "\n",
    "plt.subplot(1,2,2)\n",
    "plt.plot(history.train_acc, label=\"Train Accuracy\")\n",
    "plt.plot(history.val_acc, label=\"Validation Accuracy\")\n",
    "plt.axvline(history.best_epoch, color='red', linestyle='--', label='Best Epoch')\n",
    "plt.legend()\n",
    "plt.xlabel(\"Epochs\")\n",
    "plt.ylabel(\"Accuracy\")\n",
    "plt.title(\"Accuracy Curve\")\n",
    "\n",
    "plt.tight_layout()\n",
    "plt.show()"
   ]
  }
 ],
 "metadata": {
  "kernelspec": {
   "display_name": ".venv",
   "language": "python",
   "name": "python3"
  },
  "language_info": {
   "codemirror_mode": {
    "name": "ipython",
    "version": 3
   },
   "file_extension": ".py",
   "mimetype": "text/x-python",
   "name": "python",
   "nbconvert_exporter": "python",
   "pygments_lexer": "ipython3",
   "version": "3.11.0"
  }
 },
 "nbformat": 4,
 "nbformat_minor": 5
}
