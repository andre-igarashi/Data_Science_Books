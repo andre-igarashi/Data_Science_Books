{
 "cells": [
  {
   "cell_type": "markdown",
   "id": "ce9644fd",
   "metadata": {},
   "source": [
    "## 1. What Linear Regression training algorithm can you use if you have a training set with millions of features?"
   ]
  },
  {
   "cell_type": "markdown",
   "id": "d781bf6c",
   "metadata": {},
   "source": [
    "**Stochastic Gradient Descent (SGD)**<br>\n",
    "Scales well with large datasets and millions of features.<br>\n",
    "Uses little memory, processing one sample at a time.<br>\n",
    "Supports online learning, updating the model incrementally.<br>\n",
    "Avoids matrix inversion, which is computationally expensive with many features.<br>"
   ]
  },
  {
   "cell_type": "markdown",
   "id": "845545f3",
   "metadata": {},
   "source": [
    "## 2. Suppose the features in your training set have very different scales. What algorithms might suffer from this, and how? What can you do about it?"
   ]
  },
  {
   "cell_type": "markdown",
   "id": "bc95365e",
   "metadata": {},
   "source": [
    "**Algorithms that suffer when features have very different scales:**\n",
    "- Gradient Descent-based algorithms (Linear Regression, Logistic Regression, Neural Networks)\n",
    "    - The cost function can become elongated, causing slow convergence or getting stuck.\n",
    "- Support Vector Machines (SVMs)\n",
    "    - Sensitive to feature scales because it relies on distances; unscaled features can distort the decision boundary.\n",
    "- K-Nearest Neighbors (KNN) and K-Means Clustering\n",
    "    - Both rely on distance calculations. Features on larger scales dominate the distance metric, skewing results."
   ]
  },
  {
   "cell_type": "markdown",
   "id": "043c03c8",
   "metadata": {},
   "source": [
    "**What to do about it**\n",
    "- Scale your features using:\n",
    "    - Standardization (Z-score normalization): Rescales features to have zero mean and unit variance.\n",
    "    - Min-Max Scaling: Rescales features to a fixed range, typically [0, 1]."
   ]
  },
  {
   "cell_type": "markdown",
   "id": "eca2717a",
   "metadata": {},
   "source": [
    "## 3. Can Gradient Descent get stuck in a local minimum when training a Logistic Regression model?"
   ]
  },
  {
   "cell_type": "markdown",
   "id": "0bef27bf",
   "metadata": {},
   "source": [
    "No, Gradient Descent cannot get stuck in a local minimum when training a Logistic Regression model.<br>\n",
    "\n",
    "Because,\n",
    "- The cost function used in Logistic Regression is the log loss (cross-entropy loss), which is a convex function.\n",
    "- A convex function has one global minimum and no local minima, so Gradient Descent is guaranteed to converge to the global minimum, given:\n",
    "    - A properly chosen learning rate.\n",
    "    - The function is well-conditioned (features are scaled)."
   ]
  },
  {
   "cell_type": "markdown",
   "id": "c321933f",
   "metadata": {},
   "source": [
    "## 4. Do all Gradient Descent algorithms lead to the same model provided you let them run long enough?"
   ]
  },
  {
   "cell_type": "markdown",
   "id": "f04d1911",
   "metadata": {},
   "source": [
    "- For convex problems like Linear Regression or Logistic Regression, all Gradient Descent variants (Batch, Stochastic, Mini-batch) will converge to the same global minimum, assuming:\n",
    "    - A proper learning rate.\n",
    "    - The learning rate schedule (especially for Stochastic and Mini-batch GD) eventually decays to zero.\n",
    "\n",
    "- For non-convex problems (like deep neural networks), Gradient Descent variants:\n",
    "    - May converge to different solutions, since there are multiple local minima and saddle points.\n",
    "    - Different initialization and random shuffling in SGD and Mini-batch GD can lead to different final models."
   ]
  },
  {
   "cell_type": "markdown",
   "id": "4673d044",
   "metadata": {},
   "source": [
    "## 5. Suppose you use Batch Gradient Descent and you plot the validation error at every epoch. If you notice that the validation error consistently goes up, what is likely going on? How can you fix this?"
   ]
  },
  {
   "cell_type": "markdown",
   "id": "23cfe0d0",
   "metadata": {},
   "source": [
    "Overfitting.<br> \n",
    "\n",
    "This means the model is learning the training data too well, including its noise, and is failing to generalize to unseen data.<br>\n",
    "\n",
    "Cause:\n",
    "- The model is too complex or trained for too long, and it's fitting the training data at the expense of validation performance.\n",
    "\n",
    "- A less common possibility is a learning rate that is too high, but that usually causes the training/validation error to fluctuate or explode, not steadily increase."
   ]
  },
  {
   "cell_type": "markdown",
   "id": "44f075f2",
   "metadata": {},
   "source": [
    "## 6. Is it a good idea to stop Mini-batch Gradient Descent immediately when the validation error goes up?"
   ]
  },
  {
   "cell_type": "markdown",
   "id": "578d8cee",
   "metadata": {},
   "source": [
    "No, it is not a good idea.<br>\n",
    "\n",
    "Mini-batch Gradient Descent introduces noise in the training process because it updates the model using small random subsets of the data.As a result, the validation error can fluctuate from epoch to epoch, even when the overall trend is improving.<br>\n",
    "\n",
    "Stopping training as soon as the validation error increases could lead to premature stopping, before the model reaches its best performance."
   ]
  },
  {
   "cell_type": "markdown",
   "id": "96ca5a44",
   "metadata": {},
   "source": [
    "## 7. Which Gradient Descent algorithm (among those we discussed) will reach the vicinity of the optimal solution the fastest? Which will actually converge? How can you make the others converge as well?"
   ]
  },
  {
   "cell_type": "markdown",
   "id": "7c7c39e8",
   "metadata": {},
   "source": [
    "Stochastic Gradient Descent (SGD) typically reaches the vicinity of the optimal solution the fastest\n",
    "\n",
    "- SGD performs updates using one training instance at a time, which makes it very quick per step.\n",
    "\n",
    "- This randomness helps it escape local minima and explore the loss surface efficiently.\n",
    "\n",
    "- It can quickly get close to a good solution, though it may not settle precisely at the minimum due to its noisy updates."
   ]
  },
  {
   "cell_type": "markdown",
   "id": "436952a6",
   "metadata": {},
   "source": [
    "Batch Gradient Descent is the algorithm that converges reliably to the minimum of the cost function.\n",
    "\n",
    "- It uses the entire dataset to compute gradients, so its updates are stable and consistent.\n",
    "\n",
    "- It converges smoothly to the optimal point (if the learning rate is well chosen)."
   ]
  },
  {
   "cell_type": "markdown",
   "id": "2d2c1cf8",
   "metadata": {},
   "source": [
    "To help Stochastic Gradient Descent (SGD) or Mini-batch Gradient Descent converge:\n",
    "\n",
    "- Use a learning rate schedule:\n",
    "\n",
    "    - Gradually reduce the learning rate over time.\n",
    "\n",
    "        - This allows the updates to become smaller and more stable as the algorithm approaches the minimum.\n",
    "\n",
    "    - Use optimization algorithms with momentum or adaptive learning rates.\n",
    "\n",
    "        - These help smooth out noisy updates and accelerate convergence."
   ]
  },
  {
   "cell_type": "markdown",
   "id": "2f14940c",
   "metadata": {},
   "source": [
    "## 8. Suppose you are using Polynomial Regression. You plot the learning curves and you notice that there is a large gap between the training error and the validation error. What is happening? What are three ways to solve this?"
   ]
  },
  {
   "cell_type": "markdown",
   "id": "1bb70a8d",
   "metadata": {},
   "source": [
    "Overfitting\n",
    "\n",
    "typically happens when the polynomial degree is too high, making the model too flexible and capturing noise from the training data\n",
    "\n",
    "Possible solutions:\n",
    "\n",
    "Reduce the model complexity, regularization, get more training data"
   ]
  },
  {
   "cell_type": "markdown",
   "id": "94947b65",
   "metadata": {},
   "source": [
    "## 9. Suppose you are using Ridge Regression and you notice that the training error and the validation error are almost equal and fairly high. Would you say that the model suffers from high bias or high variance? Should you increase the regularization hyperparameter α or reduce it?"
   ]
  },
  {
   "cell_type": "markdown",
   "id": "d61a8787",
   "metadata": {},
   "source": [
    "## 10. Why would you want to use:\n",
    "### • Ridge Regression instead of Linear Regression?\n",
    "### • Lasso instead of Ridge Regression?\n",
    "### • Elastic Net instead of Lasso?"
   ]
  },
  {
   "cell_type": "markdown",
   "id": "78da02f8",
   "metadata": {},
   "source": [
    "## 11. Suppose you want to classify pictures as outdoor/indoor and daytime/nighttime. Should you implement two Logistic Regression classifiers or one Softmax Regression classifier?"
   ]
  },
  {
   "cell_type": "markdown",
   "id": "8c4b8cbe",
   "metadata": {},
   "source": [
    "## 12. Implement Batch Gradient Descent with early stopping for Softmax Regression (without using Scikit-Learn)"
   ]
  }
 ],
 "metadata": {
  "language_info": {
   "name": "python"
  }
 },
 "nbformat": 4,
 "nbformat_minor": 5
}
