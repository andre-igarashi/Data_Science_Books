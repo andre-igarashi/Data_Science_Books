{
 "cells": [
  {
   "cell_type": "markdown",
   "id": "b6ca8177",
   "metadata": {},
   "source": [
    "### 1. How would you define Machine Learning?\n",
    "\n",
    "Machine Learning is a field of computer science that gives computers the ability to learn from data and improve their performance over time without being explicitly programmed for every specific task."
   ]
  },
  {
   "cell_type": "markdown",
   "id": "50e84401",
   "metadata": {},
   "source": [
    "### 2. Can you name four types of problems where it shines?\n",
    "\n",
    "Image recognition, NLP, fraud detection, recommendations."
   ]
  },
  {
   "cell_type": "markdown",
   "id": "c9d5d5ed",
   "metadata": {},
   "source": [
    "### 3. What is a labeled training set?\n",
    "\n",
    "A labeled training set is a dataset that includes input data along with the correct output (labels), used to train supervised learning models."
   ]
  },
  {
   "cell_type": "markdown",
   "id": "e64b38e3",
   "metadata": {},
   "source": [
    "### 4. What are the two most common supervised tasks?\n",
    "\n",
    "Classification and regression."
   ]
  },
  {
   "cell_type": "markdown",
   "id": "992c7a11",
   "metadata": {},
   "source": [
    "### 5. Can you name four common unsupervised tasks?\n",
    "\n",
    "Clustering, anomaly detection, dimensionality reduction, association."
   ]
  },
  {
   "cell_type": "markdown",
   "id": "32e107cf",
   "metadata": {},
   "source": [
    "### 6. What type of Machine Learning algorithm would you use to allow a robot to walk in various unknown terrains?\n",
    "\n",
    "Reinforcement learning algorithm, which learns through trial and error by receiving rewards or penalties."
   ]
  },
  {
   "cell_type": "markdown",
   "id": "afec0e4d",
   "metadata": {},
   "source": [
    "### 7. What type of algorithm would you use to segment your customers into multiple groups?\n",
    "\n",
    "Clustering algorithm, such as K-Means."
   ]
  },
  {
   "cell_type": "markdown",
   "id": "5f2f7c17",
   "metadata": {},
   "source": [
    "### 8. Would you frame the problem of spam detection as a supervised learning problem or an unsupervised learning problem?\n",
    "\n",
    "Supervised learning, where emails are labeled as \"spam\" or \"not spam\"."
   ]
  },
  {
   "cell_type": "markdown",
   "id": "aa17dd25",
   "metadata": {},
   "source": [
    "### 9. What is an online learning system?\n",
    "\n",
    "A system that learns continuously from incoming data."
   ]
  },
  {
   "cell_type": "markdown",
   "id": "68739a41",
   "metadata": {},
   "source": [
    "### 10. What is out-of-core learning?\n",
    "\n",
    "Learning with data too big for memory, processed in chunks."
   ]
  },
  {
   "cell_type": "markdown",
   "id": "a3bd6103",
   "metadata": {},
   "source": [
    "### 11. What type of learning algorithm relies on a similarity measure to make predictions?\n",
    "\n",
    "Instance-based learning algorithms, such as k-Nearest Neighbors, rely on similarity measures to predict outcomes based on nearby instances."
   ]
  },
  {
   "cell_type": "markdown",
   "id": "501a50bc",
   "metadata": {},
   "source": [
    "### 12. What is the difference between a model parameter and a learning algorithm’s hyperparameter?\n",
    "\n",
    "A model parameter is learned from the training data (like weights in a linear model), while a hyperparameter is set before training and controls the learning process (like learning rate or tree depth)."
   ]
  },
  {
   "cell_type": "markdown",
   "id": "5d240da9",
   "metadata": {},
   "source": [
    "### 13. What do model-based learning algorithms search for? What is the most common strategy they use to succeed? How do they make predictions?\n",
    "\n",
    "hey search for the best model parameters to minimize a cost function. The most common strategy is minimizing the error using optimization techniques like gradient descent. They make predictions using the learned model."
   ]
  },
  {
   "cell_type": "markdown",
   "id": "bd60499b",
   "metadata": {},
   "source": [
    "### 14. Can you name four of the main challenges in Machine Learning?\n",
    "\n",
    "Insufficient training data, non-representative data, overfitting, and underfitting."
   ]
  },
  {
   "cell_type": "markdown",
   "id": "fffcfe5a",
   "metadata": {},
   "source": [
    "### 15. If your model performs great on the training data but generalizes poorly to new instances, what is happening? Can you name three possible solutions?\n",
    "\n",
    "Overfitting. Solutions: simplify the model, use regularization, get more training data."
   ]
  },
  {
   "cell_type": "markdown",
   "id": "5f7729cd",
   "metadata": {},
   "source": [
    "### 16. What is a test set and why would you want to use it?\n",
    "\n",
    "A test set is a separate dataset not used during training. It evaluates how well a model generalizes to unseen data."
   ]
  }
 ],
 "metadata": {
  "language_info": {
   "name": "python"
  }
 },
 "nbformat": 4,
 "nbformat_minor": 5
}
